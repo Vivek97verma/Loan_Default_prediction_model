{
 "cells": [
  {
   "cell_type": "markdown",
   "id": "5a7ae6bc-795b-4ff2-87c3-8f34123b8566",
   "metadata": {},
   "source": [
    "# importing necessary liabrary"
   ]
  },
  {
   "cell_type": "code",
   "execution_count": 1,
   "id": "bbd8c7bb-dbc9-40d4-bcf0-693fed3903f3",
   "metadata": {},
   "outputs": [],
   "source": [
    "import numpy as np\n",
    "import pandas as pd\n",
    "import matplotlib.pyplot as plt\n",
    "import seaborn as sns\n",
    "import warnings\n",
    "warnings.filterwarnings(\"ignore\")"
   ]
  },
  {
   "cell_type": "markdown",
   "id": "afbe2f99-4f44-4f5e-8f71-b445522913d5",
   "metadata": {},
   "source": [
    "# Load the data set"
   ]
  },
  {
   "cell_type": "code",
   "execution_count": 2,
   "id": "cb02a94a-2def-414e-9a2c-0c9e7f6f85f2",
   "metadata": {},
   "outputs": [
    {
     "data": {
      "text/html": [
       "<div>\n",
       "<style scoped>\n",
       "    .dataframe tbody tr th:only-of-type {\n",
       "        vertical-align: middle;\n",
       "    }\n",
       "\n",
       "    .dataframe tbody tr th {\n",
       "        vertical-align: top;\n",
       "    }\n",
       "\n",
       "    .dataframe thead th {\n",
       "        text-align: right;\n",
       "    }\n",
       "</style>\n",
       "<table border=\"1\" class=\"dataframe\">\n",
       "  <thead>\n",
       "    <tr style=\"text-align: right;\">\n",
       "      <th></th>\n",
       "      <th>Index</th>\n",
       "      <th>Employed</th>\n",
       "      <th>Bank Balance</th>\n",
       "      <th>Annual Salary</th>\n",
       "      <th>Defaulted?</th>\n",
       "    </tr>\n",
       "  </thead>\n",
       "  <tbody>\n",
       "    <tr>\n",
       "      <th>0</th>\n",
       "      <td>1</td>\n",
       "      <td>1</td>\n",
       "      <td>8754.36</td>\n",
       "      <td>532339.56</td>\n",
       "      <td>0</td>\n",
       "    </tr>\n",
       "    <tr>\n",
       "      <th>1</th>\n",
       "      <td>2</td>\n",
       "      <td>0</td>\n",
       "      <td>9806.16</td>\n",
       "      <td>145273.56</td>\n",
       "      <td>0</td>\n",
       "    </tr>\n",
       "    <tr>\n",
       "      <th>2</th>\n",
       "      <td>3</td>\n",
       "      <td>1</td>\n",
       "      <td>12882.60</td>\n",
       "      <td>381205.68</td>\n",
       "      <td>0</td>\n",
       "    </tr>\n",
       "    <tr>\n",
       "      <th>3</th>\n",
       "      <td>4</td>\n",
       "      <td>1</td>\n",
       "      <td>6351.00</td>\n",
       "      <td>428453.88</td>\n",
       "      <td>0</td>\n",
       "    </tr>\n",
       "    <tr>\n",
       "      <th>4</th>\n",
       "      <td>5</td>\n",
       "      <td>1</td>\n",
       "      <td>9427.92</td>\n",
       "      <td>461562.00</td>\n",
       "      <td>0</td>\n",
       "    </tr>\n",
       "  </tbody>\n",
       "</table>\n",
       "</div>"
      ],
      "text/plain": [
       "   Index  Employed  Bank Balance  Annual Salary  Defaulted?\n",
       "0      1         1       8754.36      532339.56           0\n",
       "1      2         0       9806.16      145273.56           0\n",
       "2      3         1      12882.60      381205.68           0\n",
       "3      4         1       6351.00      428453.88           0\n",
       "4      5         1       9427.92      461562.00           0"
      ]
     },
     "execution_count": 2,
     "metadata": {},
     "output_type": "execute_result"
    }
   ],
   "source": [
    "df=pd.read_csv('Default_Fin.csv')\n",
    "df.head()"
   ]
  },
  {
   "cell_type": "code",
   "execution_count": 3,
   "id": "a5e1e1dd-8d4d-403b-82f8-e8c61f50256c",
   "metadata": {},
   "outputs": [
    {
     "data": {
      "text/plain": [
       "Defaulted?\n",
       "0    9667\n",
       "1     333\n",
       "Name: count, dtype: int64"
      ]
     },
     "execution_count": 3,
     "metadata": {},
     "output_type": "execute_result"
    }
   ],
   "source": [
    "df['Defaulted?'].value_counts()"
   ]
  },
  {
   "cell_type": "markdown",
   "id": "446025ef-7f8f-46b6-ae8e-158d45c71288",
   "metadata": {},
   "source": [
    "# check the shape of data set"
   ]
  },
  {
   "cell_type": "code",
   "execution_count": 4,
   "id": "55adb5ef-89dd-49ba-8266-a9214303a30c",
   "metadata": {},
   "outputs": [
    {
     "data": {
      "text/plain": [
       "(10000, 5)"
      ]
     },
     "execution_count": 4,
     "metadata": {},
     "output_type": "execute_result"
    }
   ],
   "source": [
    "df.shape"
   ]
  },
  {
   "cell_type": "markdown",
   "id": "70fe284f-c492-40d8-99fe-c6a2bc233d57",
   "metadata": {},
   "source": [
    "# Handling null value"
   ]
  },
  {
   "cell_type": "code",
   "execution_count": 5,
   "id": "8480ca76-10a4-497f-8a02-87b2be74a76a",
   "metadata": {},
   "outputs": [
    {
     "data": {
      "text/plain": [
       "Index            0\n",
       "Employed         0\n",
       "Bank Balance     0\n",
       "Annual Salary    0\n",
       "Defaulted?       0\n",
       "dtype: int64"
      ]
     },
     "execution_count": 5,
     "metadata": {},
     "output_type": "execute_result"
    }
   ],
   "source": [
    "df.isnull().sum()"
   ]
  },
  {
   "cell_type": "markdown",
   "id": "35c46522-7634-4751-944b-c06387e7bbad",
   "metadata": {},
   "source": [
    "# Fetch the duplicate value"
   ]
  },
  {
   "cell_type": "code",
   "execution_count": 6,
   "id": "643d6b2b-b43a-4d86-9333-ff2acb42b8e5",
   "metadata": {},
   "outputs": [
    {
     "data": {
      "text/plain": [
       "0"
      ]
     },
     "execution_count": 6,
     "metadata": {},
     "output_type": "execute_result"
    }
   ],
   "source": [
    "df.duplicated().sum()"
   ]
  },
  {
   "cell_type": "markdown",
   "id": "a706201f-eb48-4fd1-bcd3-0b9af3c6e3fb",
   "metadata": {},
   "source": [
    "# drop 'index' column"
   ]
  },
  {
   "cell_type": "code",
   "execution_count": 7,
   "id": "a289b948-5778-4255-8d41-6b77f1bcacbc",
   "metadata": {},
   "outputs": [],
   "source": [
    "df.drop('Index',axis=1,inplace=True)"
   ]
  },
  {
   "cell_type": "code",
   "execution_count": 8,
   "id": "3a4e374c-b527-4502-afc8-ad12a912a831",
   "metadata": {},
   "outputs": [
    {
     "data": {
      "text/plain": [
       "Index(['Employed', 'Bank Balance', 'Annual Salary', 'Defaulted?'], dtype='object')"
      ]
     },
     "execution_count": 8,
     "metadata": {},
     "output_type": "execute_result"
    }
   ],
   "source": [
    "df.columns"
   ]
  },
  {
   "cell_type": "markdown",
   "id": "f1173c0a-5d6a-4e9b-be0d-f4d2a3d23ecb",
   "metadata": {},
   "source": [
    "# check the data type"
   ]
  },
  {
   "cell_type": "code",
   "execution_count": 9,
   "id": "834a473c-a8e1-42fd-b455-c272bcadc510",
   "metadata": {},
   "outputs": [
    {
     "data": {
      "text/plain": [
       "Employed           int64\n",
       "Bank Balance     float64\n",
       "Annual Salary    float64\n",
       "Defaulted?         int64\n",
       "dtype: object"
      ]
     },
     "execution_count": 9,
     "metadata": {},
     "output_type": "execute_result"
    }
   ],
   "source": [
    "df.dtypes"
   ]
  },
  {
   "cell_type": "markdown",
   "id": "a60a27df-3b6f-4c0b-8a9f-897072dbb4ee",
   "metadata": {},
   "source": [
    "# Data description"
   ]
  },
  {
   "cell_type": "code",
   "execution_count": 10,
   "id": "6ab01463-5521-44ea-b733-633b68da035d",
   "metadata": {},
   "outputs": [
    {
     "name": "stdout",
     "output_type": "stream",
     "text": [
      "<class 'pandas.core.frame.DataFrame'>\n",
      "RangeIndex: 10000 entries, 0 to 9999\n",
      "Data columns (total 4 columns):\n",
      " #   Column         Non-Null Count  Dtype  \n",
      "---  ------         --------------  -----  \n",
      " 0   Employed       10000 non-null  int64  \n",
      " 1   Bank Balance   10000 non-null  float64\n",
      " 2   Annual Salary  10000 non-null  float64\n",
      " 3   Defaulted?     10000 non-null  int64  \n",
      "dtypes: float64(2), int64(2)\n",
      "memory usage: 312.6 KB\n"
     ]
    }
   ],
   "source": [
    "df.info()"
   ]
  },
  {
   "cell_type": "markdown",
   "id": "8b2b8971-e39a-42a1-b06f-6207ad32d193",
   "metadata": {},
   "source": [
    "# statistical behaviour"
   ]
  },
  {
   "cell_type": "code",
   "execution_count": 11,
   "id": "9d7b7c05-d3bd-41d6-90d8-84bd619269ad",
   "metadata": {},
   "outputs": [
    {
     "data": {
      "text/html": [
       "<div>\n",
       "<style scoped>\n",
       "    .dataframe tbody tr th:only-of-type {\n",
       "        vertical-align: middle;\n",
       "    }\n",
       "\n",
       "    .dataframe tbody tr th {\n",
       "        vertical-align: top;\n",
       "    }\n",
       "\n",
       "    .dataframe thead th {\n",
       "        text-align: right;\n",
       "    }\n",
       "</style>\n",
       "<table border=\"1\" class=\"dataframe\">\n",
       "  <thead>\n",
       "    <tr style=\"text-align: right;\">\n",
       "      <th></th>\n",
       "      <th>count</th>\n",
       "      <th>mean</th>\n",
       "      <th>std</th>\n",
       "      <th>min</th>\n",
       "      <th>25%</th>\n",
       "      <th>50%</th>\n",
       "      <th>75%</th>\n",
       "      <th>max</th>\n",
       "    </tr>\n",
       "  </thead>\n",
       "  <tbody>\n",
       "    <tr>\n",
       "      <th>Employed</th>\n",
       "      <td>10000.0</td>\n",
       "      <td>0.705600</td>\n",
       "      <td>0.455795</td>\n",
       "      <td>0.00</td>\n",
       "      <td>0.00</td>\n",
       "      <td>1.00</td>\n",
       "      <td>1.00</td>\n",
       "      <td>1.00</td>\n",
       "    </tr>\n",
       "    <tr>\n",
       "      <th>Bank Balance</th>\n",
       "      <td>10000.0</td>\n",
       "      <td>10024.498524</td>\n",
       "      <td>5804.579486</td>\n",
       "      <td>0.00</td>\n",
       "      <td>5780.79</td>\n",
       "      <td>9883.62</td>\n",
       "      <td>13995.66</td>\n",
       "      <td>31851.84</td>\n",
       "    </tr>\n",
       "    <tr>\n",
       "      <th>Annual Salary</th>\n",
       "      <td>10000.0</td>\n",
       "      <td>402203.782224</td>\n",
       "      <td>160039.674988</td>\n",
       "      <td>9263.64</td>\n",
       "      <td>256085.52</td>\n",
       "      <td>414631.74</td>\n",
       "      <td>525692.76</td>\n",
       "      <td>882650.76</td>\n",
       "    </tr>\n",
       "    <tr>\n",
       "      <th>Defaulted?</th>\n",
       "      <td>10000.0</td>\n",
       "      <td>0.033300</td>\n",
       "      <td>0.179428</td>\n",
       "      <td>0.00</td>\n",
       "      <td>0.00</td>\n",
       "      <td>0.00</td>\n",
       "      <td>0.00</td>\n",
       "      <td>1.00</td>\n",
       "    </tr>\n",
       "  </tbody>\n",
       "</table>\n",
       "</div>"
      ],
      "text/plain": [
       "                 count           mean            std      min        25%  \\\n",
       "Employed       10000.0       0.705600       0.455795     0.00       0.00   \n",
       "Bank Balance   10000.0   10024.498524    5804.579486     0.00    5780.79   \n",
       "Annual Salary  10000.0  402203.782224  160039.674988  9263.64  256085.52   \n",
       "Defaulted?     10000.0       0.033300       0.179428     0.00       0.00   \n",
       "\n",
       "                     50%        75%        max  \n",
       "Employed            1.00       1.00       1.00  \n",
       "Bank Balance     9883.62   13995.66   31851.84  \n",
       "Annual Salary  414631.74  525692.76  882650.76  \n",
       "Defaulted?          0.00       0.00       1.00  "
      ]
     },
     "execution_count": 11,
     "metadata": {},
     "output_type": "execute_result"
    }
   ],
   "source": [
    "df.describe().T"
   ]
  },
  {
   "cell_type": "markdown",
   "id": "ee293f6d-4b8a-4835-bfee-948b9fb24bc2",
   "metadata": {},
   "source": [
    "# performing some EDA"
   ]
  },
  {
   "cell_type": "code",
   "execution_count": 12,
   "id": "43081d3f-2653-424e-a20e-385a10c9e2dc",
   "metadata": {},
   "outputs": [
    {
     "data": {
      "text/html": [
       "<div>\n",
       "<style scoped>\n",
       "    .dataframe tbody tr th:only-of-type {\n",
       "        vertical-align: middle;\n",
       "    }\n",
       "\n",
       "    .dataframe tbody tr th {\n",
       "        vertical-align: top;\n",
       "    }\n",
       "\n",
       "    .dataframe thead th {\n",
       "        text-align: right;\n",
       "    }\n",
       "</style>\n",
       "<table border=\"1\" class=\"dataframe\">\n",
       "  <thead>\n",
       "    <tr style=\"text-align: right;\">\n",
       "      <th></th>\n",
       "      <th>Employed</th>\n",
       "      <th>Bank Balance</th>\n",
       "      <th>Annual Salary</th>\n",
       "      <th>Defaulted?</th>\n",
       "    </tr>\n",
       "  </thead>\n",
       "  <tbody>\n",
       "    <tr>\n",
       "      <th>Employed</th>\n",
       "      <td>1.000000</td>\n",
       "      <td>-0.203578</td>\n",
       "      <td>0.753985</td>\n",
       "      <td>-0.035420</td>\n",
       "    </tr>\n",
       "    <tr>\n",
       "      <th>Bank Balance</th>\n",
       "      <td>-0.203578</td>\n",
       "      <td>1.000000</td>\n",
       "      <td>-0.152243</td>\n",
       "      <td>0.350119</td>\n",
       "    </tr>\n",
       "    <tr>\n",
       "      <th>Annual Salary</th>\n",
       "      <td>0.753985</td>\n",
       "      <td>-0.152243</td>\n",
       "      <td>1.000000</td>\n",
       "      <td>-0.019871</td>\n",
       "    </tr>\n",
       "    <tr>\n",
       "      <th>Defaulted?</th>\n",
       "      <td>-0.035420</td>\n",
       "      <td>0.350119</td>\n",
       "      <td>-0.019871</td>\n",
       "      <td>1.000000</td>\n",
       "    </tr>\n",
       "  </tbody>\n",
       "</table>\n",
       "</div>"
      ],
      "text/plain": [
       "               Employed  Bank Balance  Annual Salary  Defaulted?\n",
       "Employed       1.000000     -0.203578       0.753985   -0.035420\n",
       "Bank Balance  -0.203578      1.000000      -0.152243    0.350119\n",
       "Annual Salary  0.753985     -0.152243       1.000000   -0.019871\n",
       "Defaulted?    -0.035420      0.350119      -0.019871    1.000000"
      ]
     },
     "execution_count": 12,
     "metadata": {},
     "output_type": "execute_result"
    }
   ],
   "source": [
    "corr=df.corr()\n",
    "corr"
   ]
  },
  {
   "cell_type": "code",
   "execution_count": 13,
   "id": "a0a76a7c-8a79-4ebe-a39b-2d1487e6c1e8",
   "metadata": {},
   "outputs": [
    {
     "data": {
      "image/png": "[encoded data removed]",
      "text/plain": [
       "<Figure size 1000x800 with 2 Axes>"
      ]
     },
     "metadata": {},
     "output_type": "display_data"
    }
   ],
   "source": [
    "plt.figure(figsize=(10,8))\n",
    "sns.heatmap(data=corr,annot=True,cmap='RdBu')\n",
    "plt.title('correlation between the value')\n",
    "plt.show()"
   ]
  },
  {
   "cell_type": "markdown",
   "id": "c52ddb98-4513-4670-a76b-9ae787f96d04",
   "metadata": {},
   "source": [
    "# outliers treatment"
   ]
  },
  {
   "cell_type": "code",
   "execution_count": 14,
   "id": "09fbfbcf-c280-442f-8e04-62b1f7234ba1",
   "metadata": {},
   "outputs": [
    {
     "data": {
      "text/html": [
       "<div>\n",
       "<style scoped>\n",
       "    .dataframe tbody tr th:only-of-type {\n",
       "        vertical-align: middle;\n",
       "    }\n",
       "\n",
       "    .dataframe tbody tr th {\n",
       "        vertical-align: top;\n",
       "    }\n",
       "\n",
       "    .dataframe thead th {\n",
       "        text-align: right;\n",
       "    }\n",
       "</style>\n",
       "<table border=\"1\" class=\"dataframe\">\n",
       "  <thead>\n",
       "    <tr style=\"text-align: right;\">\n",
       "      <th></th>\n",
       "      <th>count</th>\n",
       "      <th>mean</th>\n",
       "      <th>std</th>\n",
       "      <th>min</th>\n",
       "      <th>50%</th>\n",
       "      <th>95%</th>\n",
       "      <th>96%</th>\n",
       "      <th>97%</th>\n",
       "      <th>98%</th>\n",
       "      <th>99%</th>\n",
       "      <th>max</th>\n",
       "    </tr>\n",
       "  </thead>\n",
       "  <tbody>\n",
       "    <tr>\n",
       "      <th>Bank Balance</th>\n",
       "      <td>10000.0</td>\n",
       "      <td>10024.498524</td>\n",
       "      <td>5804.579486</td>\n",
       "      <td>0.00</td>\n",
       "      <td>9883.62</td>\n",
       "      <td>19991.496</td>\n",
       "      <td>20692.5312</td>\n",
       "      <td>21519.4836</td>\n",
       "      <td>22407.7776</td>\n",
       "      <td>24101.6676</td>\n",
       "      <td>31851.84</td>\n",
       "    </tr>\n",
       "    <tr>\n",
       "      <th>Annual Salary</th>\n",
       "      <td>10000.0</td>\n",
       "      <td>402203.782224</td>\n",
       "      <td>160039.674988</td>\n",
       "      <td>9263.64</td>\n",
       "      <td>414631.74</td>\n",
       "      <td>656134.650</td>\n",
       "      <td>670258.1808</td>\n",
       "      <td>687074.5464</td>\n",
       "      <td>707909.5968</td>\n",
       "      <td>739880.8800</td>\n",
       "      <td>882650.76</td>\n",
       "    </tr>\n",
       "    <tr>\n",
       "      <th>Defaulted?</th>\n",
       "      <td>10000.0</td>\n",
       "      <td>0.033300</td>\n",
       "      <td>0.179428</td>\n",
       "      <td>0.00</td>\n",
       "      <td>0.00</td>\n",
       "      <td>0.000</td>\n",
       "      <td>0.0000</td>\n",
       "      <td>1.0000</td>\n",
       "      <td>1.0000</td>\n",
       "      <td>1.0000</td>\n",
       "      <td>1.00</td>\n",
       "    </tr>\n",
       "  </tbody>\n",
       "</table>\n",
       "</div>"
      ],
      "text/plain": [
       "                 count           mean            std      min        50%  \\\n",
       "Bank Balance   10000.0   10024.498524    5804.579486     0.00    9883.62   \n",
       "Annual Salary  10000.0  402203.782224  160039.674988  9263.64  414631.74   \n",
       "Defaulted?     10000.0       0.033300       0.179428     0.00       0.00   \n",
       "\n",
       "                      95%          96%          97%          98%          99%  \\\n",
       "Bank Balance    19991.496   20692.5312   21519.4836   22407.7776   24101.6676   \n",
       "Annual Salary  656134.650  670258.1808  687074.5464  707909.5968  739880.8800   \n",
       "Defaulted?          0.000       0.0000       1.0000       1.0000       1.0000   \n",
       "\n",
       "                     max  \n",
       "Bank Balance    31851.84  \n",
       "Annual Salary  882650.76  \n",
       "Defaulted?          1.00  "
      ]
     },
     "execution_count": 14,
     "metadata": {},
     "output_type": "execute_result"
    }
   ],
   "source": [
    "col=['Bank Balance', 'Annual Salary', 'Defaulted?']\n",
    "a=df[col].describe(percentiles=[0.95,0.96,0.97,0.98,0.99]).T\n",
    "a"
   ]
  },
  {
   "cell_type": "code",
   "execution_count": 15,
   "id": "84dd9575-4bef-4ca8-b237-4a3da9bae1bd",
   "metadata": {},
   "outputs": [
    {
     "data": {
      "image/png": "[encoded data removed]",
      "text/plain": [
       "<Figure size 1000x1200 with 3 Axes>"
      ]
     },
     "metadata": {},
     "output_type": "display_data"
    }
   ],
   "source": [
    "plt.figure(figsize=(10,12))\n",
    "for i in range (len(col)):\n",
    "    plt.subplot(2,2,i+1)\n",
    "    sns.boxplot(x=df[col[i]])\n",
    "    plt.title(f' boxplot for {col[i]}')\n",
    "plt.show()\n",
    "    "
   ]
  },
  {
   "cell_type": "markdown",
   "id": "d25c0cbb-1715-49b8-a522-15e330abfd9b",
   "metadata": {},
   "source": [
    "# outliers capping"
   ]
  },
  {
   "cell_type": "code",
   "execution_count": 16,
   "id": "497a8ac9-bf84-458d-b17e-c72615b471e1",
   "metadata": {},
   "outputs": [
    {
     "name": "stdout",
     "output_type": "stream",
     "text": [
      "(100, 4)\n"
     ]
    }
   ],
   "source": [
    "print(df[df['Bank Balance']>24101.6676].shape)"
   ]
  },
  {
   "cell_type": "code",
   "execution_count": 17,
   "id": "bf57310a-169e-4fef-b66a-c85330e761d3",
   "metadata": {},
   "outputs": [],
   "source": [
    "df['Bank Balance']=np.where(df['Bank Balance']>24101.6676,24101.6676,df['Bank Balance'])"
   ]
  },
  {
   "cell_type": "code",
   "execution_count": 18,
   "id": "801fb077-27ef-4c01-8837-316cc8a913f6",
   "metadata": {},
   "outputs": [
    {
     "data": {
      "image/png": "[encoded data removed]",
      "text/plain": [
       "<Figure size 1000x500 with 1 Axes>"
      ]
     },
     "metadata": {},
     "output_type": "display_data"
    }
   ],
   "source": [
    "plt.figure(figsize=(10,5))\n",
    "sns.boxplot(x=df['Bank Balance'])\n",
    "plt.title('boxplot for Bank Balance')\n",
    "plt.show()"
   ]
  },
  {
   "cell_type": "markdown",
   "id": "5b8b4dc2-051d-4759-a121-c195a4440c75",
   "metadata": {},
   "source": [
    "# seperate independent variable and dependent variable"
   ]
  },
  {
   "cell_type": "code",
   "execution_count": 19,
   "id": "29db4e8f-6122-4f29-814a-7e43a4380fc5",
   "metadata": {},
   "outputs": [
    {
     "name": "stdout",
     "output_type": "stream",
     "text": [
      "(10000, 3)\n",
      "(10000,)\n",
      "<class 'pandas.core.frame.DataFrame'>\n",
      "<class 'pandas.core.series.Series'>\n"
     ]
    }
   ],
   "source": [
    "x=df.drop('Defaulted?',axis=1)\n",
    "y=df['Defaulted?']\n",
    "print(x.shape)\n",
    "print(y.shape)\n",
    "print(type(x))\n",
    "print(type(y))"
   ]
  },
  {
   "cell_type": "markdown",
   "id": "621bc3e8-b2c5-4dcd-b078-d1f7fc603d5e",
   "metadata": {},
   "source": [
    "# split the data into training and testing data"
   ]
  },
  {
   "cell_type": "code",
   "execution_count": 20,
   "id": "61a04295-f566-467b-bcd8-b4db35bc0175",
   "metadata": {},
   "outputs": [
    {
     "name": "stdout",
     "output_type": "stream",
     "text": [
      "(2000, 3)\n",
      "(8000, 3)\n",
      "(2000,)\n",
      "(8000,)\n"
     ]
    }
   ],
   "source": [
    "from sklearn.model_selection import train_test_split\n",
    "x_train,x_test,y_train,y_test=train_test_split(x,y,random_state=2022,test_size=0.8)\n",
    "print(x_train.shape)\n",
    "print(x_test.shape)\n",
    "print(y_train.shape)\n",
    "print(y_test.shape)"
   ]
  },
  {
   "cell_type": "markdown",
   "id": "2cfcb400-b2e5-4a6c-8bff-bf5b7c0ea997",
   "metadata": {},
   "source": [
    "# create a function to evaluate model"
   ]
  },
  {
   "cell_type": "code",
   "execution_count": 24,
   "id": "dc77f9c8-d447-4007-836b-427863a6e910",
   "metadata": {},
   "outputs": [],
   "source": [
    "from sklearn.metrics import *"
   ]
  },
  {
   "cell_type": "code",
   "execution_count": 25,
   "id": "4448ad9b-391d-4034-8404-be32e211f0b3",
   "metadata": {},
   "outputs": [],
   "source": [
    "def eval_model(model,x_train,x_test,y_train,y_test,mname):\n",
    "    model.fit(x_train,y_train)\n",
    "    ypred=model.predict(x_test)\n",
    "    test_mae=mean_absolute_error(y_test,ypred)\n",
    "    test_mse=mean_squared_error(y_test,ypred)\n",
    "    test_rmse=np.sqrt(test_mse)\n",
    "    Train_score=model.score(x_train,y_train)\n",
    "    Test_score=model.score(x_test,y_test)\n",
    "    res=pd.DataFrame({'Train score':Train_score,'Test score':Test_score,'test_mae':test_mae,'test_mse':test_mse,'test_rmse':test_rmse},index=[mname])\n",
    "    return res,ypred"
   ]
  },
  {
   "cell_type": "markdown",
   "id": "d6baf328-065c-49d4-a9cc-656b9811804c",
   "metadata": {},
   "source": [
    "# apply ml model"
   ]
  },
  {
   "cell_type": "code",
   "execution_count": 22,
   "id": "e87736d5-2ca9-44a5-947b-0cd33a6499dc",
   "metadata": {},
   "outputs": [],
   "source": [
    "from sklearn.tree import DecisionTreeRegressor\n",
    "from sklearn.ensemble import RandomForestRegressor,AdaBoostRegressor\n",
    "from sklearn.linear_model import LinearRegression"
   ]
  },
  {
   "cell_type": "markdown",
   "id": "56e90c65-5149-4995-afc0-5e4a28fa0586",
   "metadata": {},
   "source": [
    "# DT model"
   ]
  },
  {
   "cell_type": "code",
   "execution_count": 26,
   "id": "7bd39495-7ced-4d4e-a830-0f1cf5d98fcf",
   "metadata": {},
   "outputs": [
    {
     "data": {
      "text/html": [
       "<div>\n",
       "<style scoped>\n",
       "    .dataframe tbody tr th:only-of-type {\n",
       "        vertical-align: middle;\n",
       "    }\n",
       "\n",
       "    .dataframe tbody tr th {\n",
       "        vertical-align: top;\n",
       "    }\n",
       "\n",
       "    .dataframe thead th {\n",
       "        text-align: right;\n",
       "    }\n",
       "</style>\n",
       "<table border=\"1\" class=\"dataframe\">\n",
       "  <thead>\n",
       "    <tr style=\"text-align: right;\">\n",
       "      <th></th>\n",
       "      <th>Train score</th>\n",
       "      <th>Test score</th>\n",
       "      <th>test_mae</th>\n",
       "      <th>test_mse</th>\n",
       "      <th>test_rmse</th>\n",
       "    </tr>\n",
       "  </thead>\n",
       "  <tbody>\n",
       "    <tr>\n",
       "      <th>DecisionTree Reg</th>\n",
       "      <td>0.68246</td>\n",
       "      <td>0.060315</td>\n",
       "      <td>0.039492</td>\n",
       "      <td>0.030972</td>\n",
       "      <td>0.17599</td>\n",
       "    </tr>\n",
       "  </tbody>\n",
       "</table>\n",
       "</div>"
      ],
      "text/plain": [
       "                  Train score  Test score  test_mae  test_mse  test_rmse\n",
       "DecisionTree Reg      0.68246    0.060315  0.039492  0.030972    0.17599"
      ]
     },
     "execution_count": 26,
     "metadata": {},
     "output_type": "execute_result"
    }
   ],
   "source": [
    "dt=DecisionTreeRegressor(max_depth=10,min_samples_split=12)\n",
    "dt_res,ypred_dt=eval_model(dt,x_train,x_test,y_train,y_test,'DecisionTree Reg')\n",
    "dt_res"
   ]
  },
  {
   "cell_type": "markdown",
   "id": "08d078c4-9233-40a8-bf04-e4a0fb467f7d",
   "metadata": {},
   "source": [
    "# RF model"
   ]
  },
  {
   "cell_type": "code",
   "execution_count": 27,
   "id": "a1d1dab2-8e7f-49b0-bf41-57d06d668983",
   "metadata": {},
   "outputs": [
    {
     "data": {
      "text/html": [
       "<div>\n",
       "<style scoped>\n",
       "    .dataframe tbody tr th:only-of-type {\n",
       "        vertical-align: middle;\n",
       "    }\n",
       "\n",
       "    .dataframe tbody tr th {\n",
       "        vertical-align: top;\n",
       "    }\n",
       "\n",
       "    .dataframe thead th {\n",
       "        text-align: right;\n",
       "    }\n",
       "</style>\n",
       "<table border=\"1\" class=\"dataframe\">\n",
       "  <thead>\n",
       "    <tr style=\"text-align: right;\">\n",
       "      <th></th>\n",
       "      <th>Train score</th>\n",
       "      <th>Test score</th>\n",
       "      <th>test_mae</th>\n",
       "      <th>test_mse</th>\n",
       "      <th>test_rmse</th>\n",
       "    </tr>\n",
       "  </thead>\n",
       "  <tbody>\n",
       "    <tr>\n",
       "      <th>RandomForest Reg</th>\n",
       "      <td>0.639711</td>\n",
       "      <td>0.284122</td>\n",
       "      <td>0.042189</td>\n",
       "      <td>0.023596</td>\n",
       "      <td>0.153609</td>\n",
       "    </tr>\n",
       "  </tbody>\n",
       "</table>\n",
       "</div>"
      ],
      "text/plain": [
       "                  Train score  Test score  test_mae  test_mse  test_rmse\n",
       "RandomForest Reg     0.639711    0.284122  0.042189  0.023596   0.153609"
      ]
     },
     "execution_count": 27,
     "metadata": {},
     "output_type": "execute_result"
    }
   ],
   "source": [
    "rf=RandomForestRegressor(n_estimators=80,max_depth=10,min_samples_split=12)\n",
    "rf_res,ypred_rf=eval_model(rf,x_train,x_test,y_train,y_test,'RandomForest Reg')\n",
    "rf_res"
   ]
  },
  {
   "cell_type": "markdown",
   "id": "8ddd9c98-b177-4659-81c9-2004042c1cfe",
   "metadata": {},
   "source": [
    "# LR model"
   ]
  },
  {
   "cell_type": "code",
   "execution_count": 29,
   "id": "5b02757f-e788-41cb-b7b6-279cb31cbee0",
   "metadata": {},
   "outputs": [
    {
     "data": {
      "text/html": [
       "<div>\n",
       "<style scoped>\n",
       "    .dataframe tbody tr th:only-of-type {\n",
       "        vertical-align: middle;\n",
       "    }\n",
       "\n",
       "    .dataframe tbody tr th {\n",
       "        vertical-align: top;\n",
       "    }\n",
       "\n",
       "    .dataframe thead th {\n",
       "        text-align: right;\n",
       "    }\n",
       "</style>\n",
       "<table border=\"1\" class=\"dataframe\">\n",
       "  <thead>\n",
       "    <tr style=\"text-align: right;\">\n",
       "      <th></th>\n",
       "      <th>Train score</th>\n",
       "      <th>Test score</th>\n",
       "      <th>test_mae</th>\n",
       "      <th>test_mse</th>\n",
       "      <th>test_rmse</th>\n",
       "    </tr>\n",
       "  </thead>\n",
       "  <tbody>\n",
       "    <tr>\n",
       "      <th>Linear Reg</th>\n",
       "      <td>0.098677</td>\n",
       "      <td>0.116995</td>\n",
       "      <td>0.074374</td>\n",
       "      <td>0.029104</td>\n",
       "      <td>0.1706</td>\n",
       "    </tr>\n",
       "  </tbody>\n",
       "</table>\n",
       "</div>"
      ],
      "text/plain": [
       "            Train score  Test score  test_mae  test_mse  test_rmse\n",
       "Linear Reg     0.098677    0.116995  0.074374  0.029104     0.1706"
      ]
     },
     "execution_count": 29,
     "metadata": {},
     "output_type": "execute_result"
    }
   ],
   "source": [
    "lr=LinearRegression()\n",
    "lr_res,ypred_lr=eval_model(lr,x_train,x_test,y_train,y_test,'Linear Reg')\n",
    "lr_res"
   ]
  },
  {
   "cell_type": "markdown",
   "id": "91a2c8d4-6acc-4e00-9d8c-153efee98117",
   "metadata": {},
   "source": [
    "# Adaboost model"
   ]
  },
  {
   "cell_type": "code",
   "execution_count": 30,
   "id": "1a561b87-cb81-4dd4-94f3-31b94f28f284",
   "metadata": {},
   "outputs": [
    {
     "data": {
      "text/html": [
       "<div>\n",
       "<style scoped>\n",
       "    .dataframe tbody tr th:only-of-type {\n",
       "        vertical-align: middle;\n",
       "    }\n",
       "\n",
       "    .dataframe tbody tr th {\n",
       "        vertical-align: top;\n",
       "    }\n",
       "\n",
       "    .dataframe thead th {\n",
       "        text-align: right;\n",
       "    }\n",
       "</style>\n",
       "<table border=\"1\" class=\"dataframe\">\n",
       "  <thead>\n",
       "    <tr style=\"text-align: right;\">\n",
       "      <th></th>\n",
       "      <th>Train score</th>\n",
       "      <th>Test score</th>\n",
       "      <th>test_mae</th>\n",
       "      <th>test_mse</th>\n",
       "      <th>test_rmse</th>\n",
       "    </tr>\n",
       "  </thead>\n",
       "  <tbody>\n",
       "    <tr>\n",
       "      <th>AdaBoost Reg</th>\n",
       "      <td>0.973949</td>\n",
       "      <td>0.130813</td>\n",
       "      <td>0.044618</td>\n",
       "      <td>0.028649</td>\n",
       "      <td>0.16926</td>\n",
       "    </tr>\n",
       "  </tbody>\n",
       "</table>\n",
       "</div>"
      ],
      "text/plain": [
       "              Train score  Test score  test_mae  test_mse  test_rmse\n",
       "AdaBoost Reg     0.973949    0.130813  0.044618  0.028649    0.16926"
      ]
     },
     "execution_count": 30,
     "metadata": {},
     "output_type": "execute_result"
    }
   ],
   "source": [
    "ad=AdaBoostRegressor(n_estimators=80,estimator=dt)\n",
    "ad_res,ypred_ad=eval_model(ad,x_train,x_test,y_train,y_test,'AdaBoost Reg')\n",
    "ad_res"
   ]
  },
  {
   "cell_type": "markdown",
   "id": "d9b2d068-93a7-4540-b839-ae361b069867",
   "metadata": {},
   "source": [
    "# Save the Model"
   ]
  },
  {
   "cell_type": "code",
   "execution_count": 31,
   "id": "2ac7a1e7-4561-43f3-a255-2761de3ddea0",
   "metadata": {},
   "outputs": [],
   "source": [
    "import pickle"
   ]
  },
  {
   "cell_type": "code",
   "execution_count": 32,
   "id": "fc4ca1ae-a99a-430b-aa04-814440b69e74",
   "metadata": {},
   "outputs": [],
   "source": [
    "pickle.dump(lr,open('Loan_default_lr_pred_model.pkl','wb'))\n",
    "pickle.dump(dt,open('Loan_default_dt_pred_model.pkl','wb'))\n",
    "pickle.dump(rf,open('Loan_default_rf_pred_model.pkl','wb'))\n",
    "pickle.dump(ad,open('Loan_default_ad_pred_model.pkl','wb'))"
   ]
  },
  {
   "cell_type": "code",
   "execution_count": null,
   "id": "afa93b20-71b2-4c5f-81b2-fd030af52ace",
   "metadata": {},
   "outputs": [],
   "source": []
  }
 ],
 "metadata": {
  "kernelspec": {
   "display_name": "Python 3 (ipykernel)",
   "language": "python",
   "name": "python3"
  },
  "language_info": {
   "codemirror_mode": {
    "name": "ipython",
    "version": 3
   },
   "file_extension": ".py",
   "mimetype": "text/x-python",
   "name": "python",
   "nbconvert_exporter": "python",
   "pygments_lexer": "ipython3",
   "version": "3.11.5"
  }
 },
 "nbformat": 4,
 "nbformat_minor": 5
}
